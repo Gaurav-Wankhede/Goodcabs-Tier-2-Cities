{
 "cells": [
  {
   "cell_type": "markdown",
   "metadata": {},
   "source": [
    "# Primary and Secondary Analysis"
   ]
  },
  {
   "cell_type": "markdown",
   "metadata": {},
   "source": [
    "## Top and Bottom Performing Cities"
   ]
  },
  {
   "cell_type": "markdown",
   "metadata": {},
   "source": [
    "### Identify the top 3 and bottom 3 cities by total trips over the entire analysis period. "
   ]
  },
  {
   "cell_type": "code",
   "execution_count": null,
   "metadata": {},
   "outputs": [],
   "source": [
    "# Import required libraries\n",
    "import pandas as pd\n",
    "import matplotlib.pyplot as plt\n",
    "import seaborn as sns\n",
    "\n",
    "# 1. Data Import\n",
    "# Replace with your actual CSV file paths\n",
    "fact_trips = pd.read_csv('../../datasets/fact_trips.csv')\n",
    "dim_city = pd.read_csv('../../datasets/dim_city.csv')\n",
    "\n",
    "# 2. Data Preparation\n",
    "# Group trips by city and count total trips\n",
    "city_trip_summary = fact_trips.groupby('city_id').size().reset_index(name='total_trips')\n",
    "\n",
    "# Merge with city names\n",
    "city_trip_summary = city_trip_summary.merge(dim_city[['city_id', 'city_name']], on='city_id')\n",
    "\n",
    "# 3. Top and Bottom Cities Analysis\n",
    "# Sort cities by total trips\n",
    "city_trip_summary_sorted = city_trip_summary.sort_values('total_trips', ascending=False)\n",
    "\n",
    "# Select Top 3 and Bottom 3 Cities\n",
    "top_3_cities = city_trip_summary_sorted.head(3)\n",
    "bottom_3_cities = city_trip_summary_sorted.tail(3)\n",
    "\n",
    "# 4. Visualization\n",
    "plt.figure(figsize=(15, 6))\n",
    "\n",
    "# Bar plot for Top Cities\n",
    "plt.subplot(1, 2, 1)\n",
    "sns.barplot(x='city_name', y='total_trips', data=top_3_cities, palette='viridis')\n",
    "plt.title('Top 3 Cities by Total Trips', fontsize=12)\n",
    "plt.xticks(rotation=45)\n",
    "plt.xlabel('City Name')\n",
    "plt.ylabel('Total Trips')\n",
    "\n",
    "# Bar plot for Bottom Cities\n",
    "plt.subplot(1, 2, 2)\n",
    "sns.barplot(x='city_name', y='total_trips', data=bottom_3_cities, palette='viridis')\n",
    "plt.title('Bottom 3 Cities by Total Trips', fontsize=12)\n",
    "plt.xticks(rotation=45)\n",
    "plt.xlabel('City Name')\n",
    "plt.ylabel('Total Trips')\n",
    "\n",
    "plt.tight_layout()\n",
    "plt.show()\n",
    "\n",
    "# 5. Detailed Analysis\n",
    "print(\"Top 3 Cities Analysis:\")\n",
    "print(top_3_cities)\n",
    "print(\"\\nBottom 3 Cities Analysis:\")\n",
    "print(bottom_3_cities)\n",
    "\n",
    "# 6. Additional Insights\n",
    "# Calculate percentage of total trips\n",
    "total_trips = city_trip_summary['total_trips'].sum()\n",
    "top_3_cities['trip_percentage'] = top_3_cities['total_trips'] / total_trips * 100\n",
    "bottom_3_cities['trip_percentage'] = bottom_3_cities['total_trips'] / total_trips * 100\n",
    "\n",
    "print(\"\\nTop 3 Cities Trip Percentage:\")\n",
    "print(top_3_cities[['city_name', 'total_trips', 'trip_percentage']])\n",
    "print(\"\\nBottom 3 Cities Trip Percentage:\")\n",
    "print(bottom_3_cities[['city_name', 'total_trips', 'trip_percentage']])"
   ]
  }
 ],
 "metadata": {
  "kernelspec": {
   "display_name": ".venv",
   "language": "python",
   "name": "python3"
  },
  "language_info": {
   "name": "python",
   "version": "3.12.7"
  }
 },
 "nbformat": 4,
 "nbformat_minor": 2
}
